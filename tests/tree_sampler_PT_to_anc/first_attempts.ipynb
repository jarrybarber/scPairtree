{
 "cells": [
  {
   "cell_type": "code",
   "execution_count": 1,
   "metadata": {},
   "outputs": [],
   "source": [
    "import numpy as np\n",
    "import importlib\n",
    "import sys, os\n",
    "import matplotlib.pyplot as plt\n",
    "import time\n",
    "import random\n",
    "from numba import njit\n",
    "sys.path.append(os.path.abspath('../../lib'))\n",
    "import pairs_tensor_constructor\n",
    "import pairs_tensor_util\n",
    "import util\n",
    "import tree_sampler_PT_to_anc\n",
    "from util import compute_node_relations, convert_parents_to_adjmatrix, convert_parents_to_ancmatrix, convert_adjmatrix_to_ancmatrix\n",
    "from tree_sampler import _calc_tree_llh\n",
    "\n",
    "from common import Models, NUM_MODELS\n",
    "from data_simulator_full_auto import generate_simulated_data\n",
    "from tree_plotter import plot_tree\n",
    "from pairs_tensor_plotter import plot_raw_scores"
   ]
  },
  {
   "cell_type": "code",
   "execution_count": 2,
   "metadata": {},
   "outputs": [],
   "source": [
    "n_muts = 20\n",
    "n_cells = 2000\n",
    "fpr = 0.01\n",
    "ado = 0.5\n",
    "\n",
    "data, true_tree = generate_simulated_data(n_clust=n_muts, \n",
    "                                            n_cells=n_cells, \n",
    "                                            n_muts=n_muts, \n",
    "                                            FPR=fpr, \n",
    "                                            ADO=ado, \n",
    "                                            cell_alpha=1, \n",
    "                                            mut_alpha=1,\n",
    "                                            drange=1\n",
    "                                            )\n",
    "adj_mat = true_tree[1]\n",
    "anc_mat = util.convert_adjmatrix_to_ancmatrix(adj_mat)"
   ]
  },
  {
   "cell_type": "code",
   "execution_count": 3,
   "metadata": {},
   "outputs": [],
   "source": [
    "pairs_tensor = pairs_tensor_constructor.construct_pairs_tensor(data,fpr,ado,1, verbose=False, ignore_coclust=True, ignore_garbage=True)\n",
    "\n",
    "# pairs_tensor[:,:,Models.cocluster] = -np.inf"
   ]
  },
  {
   "cell_type": "markdown",
   "metadata": {},
   "source": [
    "Sampling where mutation pair choice is selected at random"
   ]
  },
  {
   "cell_type": "code",
   "execution_count": 4,
   "metadata": {},
   "outputs": [],
   "source": [
    "# importlib.reload(tree_sampler_PT_to_anc)\n",
    "\n",
    "# n_samples = 1000\n",
    "\n",
    "# samples = np.zeros((n_muts+1,n_muts+1,n_samples))\n",
    "# adjs = np.zeros((n_muts+1,n_muts+1,n_samples))\n",
    "# llhs = np.zeros(n_samples)\n",
    "# samp_probs = np.zeros(n_samples)\n",
    "# for i in range(n_samples):\n",
    "#     samples[:,:,i], samp_probs[i] = tree_sampler_PT_to_anc._sample_tree(pairs_tensor)\n",
    "#     adjs[:,:,i] = make_adj_from_anc(samples[:,:,i])\n",
    "#     llhs[i] = _calc_tree_llh(data,samples[:,:,i], np.array([fpr]*n_muts), np.array([ado]*n_muts), 1)\n",
    "# # print(util.make_ancestral_from_adj(adj_mat.astype(int)))\n",
    "# # s = tree_sampler_PT_to_anc._sample_tree(pairs_tensor)"
   ]
  },
  {
   "cell_type": "code",
   "execution_count": 5,
   "metadata": {},
   "outputs": [],
   "source": [
    "# #Let's see if I can figure out prob of each sample:\n",
    "\n",
    "# def prob_sample(anc,pairs_tensor):\n",
    "#     #Let's just multiply together the probabilities of each relationship\n",
    "#     adj = util.make_adj_from_anc(anc)\n",
    "#     node_rels = util.compute_node_relations(adj)\n",
    "#     p = 0\n",
    "#     for i in range(pairs_tensor.shape[0]):\n",
    "#         for j in range(pairs_tensor.shape[1]):\n",
    "#             p += pairs_tensor[i,j,node_rels[i+1,j+1]]\n",
    "#     return p\n",
    "\n",
    "# # prob_sample(samples[0],pairs_tensor)\n",
    "\n",
    "# # samp_p = []\n",
    "# # for samp in samples:\n",
    "# #     samp_p.append(prob_sample(samp,pairs_tensor))\n",
    "\n",
    "# unique, uni_i, uniq_cnts = np.unique(samples,axis=2, return_index=True, return_counts=True)\n",
    "# uniq_p = samp_probs[uni_i]\n",
    "# uniq_llhs = []\n",
    "# # uniq_adjs = []\n",
    "# for i in range(unique.shape[2]):\n",
    "#     samp = unique[:,:,i]\n",
    "#     # uniq_p.append(prob_sample(samp,pairs_tensor))\n",
    "#     uniq_llhs.append(_calc_tree_llh(data, samp, np.array([fpr]*n_muts), np.array([ado]*n_muts), 1))\n",
    "#     # uniq_adjs.append(make_adj_from_anc(samp))\n",
    "# uniq_p = np.exp(uniq_p - np.max(uniq_p))\n",
    "# uniq_p = uniq_p / np.sum(uniq_p)\n",
    "# uniq_llhs = np.exp(uniq_llhs - np.max(uniq_llhs))\n",
    "# uniq_llhs = uniq_llhs / np.sum(uniq_llhs)\n",
    "# together = np.zeros((unique.shape[2],3))\n",
    "# together[:,0] = uniq_cnts/n_samples\n",
    "# together[:,1] = uniq_p\n",
    "# together[:,2] = uniq_llhs\n",
    "# together = np.transpose([uniq_cnts/n_samples, uniq_p, uniq_llhs])"
   ]
  },
  {
   "cell_type": "code",
   "execution_count": 6,
   "metadata": {},
   "outputs": [],
   "source": [
    "# #Let's compare actual adj mat to average of sampled adj mats\n",
    "\n",
    "# plt.figure(figsize=(8,4))\n",
    "# plt.subplot(1,2,1)\n",
    "# plt.imshow(adj_mat, vmin=0, vmax=1)\n",
    "# plt.title(\"True adj\")\n",
    "\n",
    "# plt.subplot(1,2,2)\n",
    "# plt.imshow(np.mean(adjs,axis=2))\n",
    "# plt.title(\"Avg adj\")\n",
    "\n",
    "# plt.figure(figsize=(8,4))\n",
    "# plt.subplot(1,2,1)\n",
    "# plt.imshow(anc_mat, vmin=0, vmax=1)\n",
    "# plt.title(\"True anc\")\n",
    "\n",
    "# plt.subplot(1,2,2)\n",
    "# plt.imshow(np.mean(samples,axis=2))\n",
    "# plt.title(\"Avg anc\")\n"
   ]
  },
  {
   "cell_type": "code",
   "execution_count": 7,
   "metadata": {},
   "outputs": [],
   "source": [
    "# llh_act = _calc_tree_llh(data, anc_mat, np.array([fpr]*n_muts), np.array([ado]*n_muts), 1)\n",
    "\n",
    "# plt.figure(figsize=(8,8))\n",
    "# h = plt.hist(llhs,np.min([int(n_samples/10), 200]))\n",
    "# plt.plot([llh_act, llh_act], [0,np.max(h[0])], 'r--')\n",
    "# plt.title(\"Sampled tree likelihoods\", fontsize=15)\n",
    "# plt.xlabel(\"LLH\", fontsize=15)\n",
    "# plt.ylabel(\"Frequency\", fontsize=15)\n",
    "# plt.yticks(fontsize=15)\n",
    "# plt.xticks(fontsize=15)\n",
    "\n",
    "# print(np.sum(llhs>=llh_act))"
   ]
  },
  {
   "cell_type": "code",
   "execution_count": 8,
   "metadata": {},
   "outputs": [],
   "source": [
    "# p=plot_tree(adj_mat)\n",
    "\n",
    "# sampled_adj = util.make_adj_from_anc(samples[0,:,:])\n",
    "# p=plot_tree(sampled_adj)\n",
    "\n",
    "# print(np.array_equal(sampled_adj, adj_mat))"
   ]
  },
  {
   "cell_type": "code",
   "execution_count": 9,
   "metadata": {},
   "outputs": [],
   "source": [
    "\n",
    "# fpr = 0.001\n",
    "# ado = 0.1\n",
    "# n_samples = 10000\n",
    "# for n_muts in [100]:\n",
    "#     for n_cells in [200,500,1000,2000]:\n",
    "#         seed = 1000\n",
    "#         np.random.seed(seed)\n",
    "#         random.seed(seed)\n",
    "#         outdir = os.path.join(\"./\",\"figs\",\"nMut{}nCell{}seed{}\".format(n_muts,n_cells,seed))\n",
    "#         if not os.path.isdir(outdir):\n",
    "#             os.makedirs(outdir)\n",
    "\n",
    "#         data, true_tree = generate_simulated_data(n_clust=n_muts, \n",
    "#                                                     n_cells=n_cells, \n",
    "#                                                     n_muts=n_muts, \n",
    "#                                                     FPR=fpr, \n",
    "#                                                     ADO=ado, \n",
    "#                                                     cell_alpha=1, \n",
    "#                                                     mut_alpha=1,\n",
    "#                                                     drange=1\n",
    "#                                                     )\n",
    "#         adj_mat = true_tree[1]\n",
    "#         anc_mat = util.make_ancestral_from_adj(adj_mat)\n",
    "\n",
    "#         print(\"Constructing pairs tensor...\")\n",
    "#         s = time.time()\n",
    "#         pairs_tensor = pairs_tensor_constructor.construct_pairs_tensor(data,0.001,0.1,1, verbose=False)\n",
    "#         pt_time = time.time() - s\n",
    "\n",
    "#         s = time.time()\n",
    "#         print(\"Sampling trees...\")\n",
    "#         samples = np.zeros((n_muts+1,n_muts+1,n_samples))\n",
    "#         adjs = np.zeros((n_muts+1,n_muts+1,n_samples))\n",
    "#         llhs = np.zeros(n_samples)\n",
    "#         for i in range(n_samples):\n",
    "#             if i % 500 ==0:\n",
    "#                 print(i, \"/\", n_samples)\n",
    "#             samples[:,:,i] = tree_sampler_PT_to_anc._sample_tree(pairs_tensor)\n",
    "#         samp_time = time.time() - s\n",
    "#         for i in range(n_samples):\n",
    "#             adjs[:,:,i] = make_adj_from_anc(samples[:,:,i])\n",
    "#             llhs[i] = _calc_tree_llh(data,samples[:,:,i], np.array([fpr]*n_muts), np.array([ado]*n_muts), 1)\n",
    "\n",
    "#         plt.figure(figsize=(8,4))\n",
    "#         plt.subplot(1,2,1)\n",
    "#         plt.imshow(adj_mat, vmin=0, vmax=1)\n",
    "#         plt.title(\"True adj\")\n",
    "#         plt.subplot(1,2,2)\n",
    "#         plt.imshow(np.mean(adjs,axis=2))\n",
    "#         plt.title(\"Avg adj\")\n",
    "#         plt.savefig(os.path.join(outdir, \"adj_comp.png\"))\n",
    "\n",
    "#         plt.figure(figsize=(8,4))\n",
    "#         plt.subplot(1,2,1)\n",
    "#         plt.imshow(anc_mat, vmin=0, vmax=1)\n",
    "#         plt.title(\"True anc\")\n",
    "#         plt.subplot(1,2,2)\n",
    "#         plt.imshow(np.mean(samples,axis=2))\n",
    "#         plt.title(\"Avg anc\")\n",
    "#         plt.savefig(os.path.join(outdir, \"anc_comp.png\"))\n",
    "\n",
    "#         llh_act = _calc_tree_llh(data, anc_mat, np.array([fpr]*n_muts), np.array([ado]*n_muts), 1)\n",
    "\n",
    "#         plt.figure(figsize=(8,8))\n",
    "#         h = plt.hist(llhs,int(n_samples/10))\n",
    "#         plt.plot([llh_act, llh_act], [0,np.max(h[0])], 'r--')\n",
    "#         plt.savefig(os.path.join(outdir, \"llhs.png\"))\n",
    "\n",
    "#         with open(os.path.join(outdir,\"times.txt\"), 'w') as f:\n",
    "#             f.write(\"Pairs Tensor:\\t{}\\n\".format(pt_time))\n",
    "#             f.write(\"Sampling:\\t{}\\n\".format(samp_time))\n"
   ]
  },
  {
   "cell_type": "code",
   "execution_count": 10,
   "metadata": {},
   "outputs": [],
   "source": [
    "# A = np.array([\n",
    "#     [1, 0 ,0 ,0],\n",
    "#     [1, 1, 0, 0],\n",
    "#     [1, 1 ,1, 0],\n",
    "#     [1, 1, 0, 1]\n",
    "#     ])\n",
    "\n",
    "# s_r = np.sum(A,axis=0) #How many mutations appear in each clone\n",
    "# s_c = np.sum(A,axis=1) #How many clones have that mutation\n",
    "\n",
    "# F = A @ A.T #How many mutations from clone i appear in clone j\n",
    "\n",
    "# print(A)\n",
    "# print(s_r)\n",
    "# print(s_c)\n",
    "# print(F)\n",
    "\n",
    "# for i in range(4):\n",
    "#     for j in range(4):\n",
    "#         assert np.sum(F[i,j] == s_r[j]) == s_c[j]"
   ]
  },
  {
   "cell_type": "code",
   "execution_count": 11,
   "metadata": {},
   "outputs": [],
   "source": [
    "# def get_i_rels(anc,i,j):\n",
    "#     n_mut = anc.shape[0] - 1\n",
    "#     is_not_i_j = (np.arange(n_mut) != i) & (np.arange(n_mut) != j)\n",
    "#     anc_i = np.argwhere((anc[1:,i+1].flatten() == 1) & (anc[1:,j+1].flatten() == -1) & is_not_i_j)\n",
    "#     dec_i = np.argwhere((anc[i+1,1:].flatten() == 1) & (anc[1:,j+1].flatten() == -1) & is_not_i_j)\n",
    "#     brn_i = np.argwhere((anc[i+1,1:].flatten() == 0) & (anc[1:,i+1].flatten() == 0) & (anc[1:,j+1].flatten() == -1) & is_not_i_j)\n",
    "\n",
    "#     return anc_i,dec_i,brn_i"
   ]
  },
  {
   "cell_type": "code",
   "execution_count": 12,
   "metadata": {},
   "outputs": [],
   "source": [
    "# from util import make_adj_from_anc\n",
    "\n",
    "\n",
    "# anc = np.array([\n",
    "#     [1,  1,  1,  1,  1,  1],\n",
    "#     [0,  1,  1,  1,  1,  1],\n",
    "#     [0,  0,  1,  0,  0, -1],\n",
    "#     [0,  0,  0,  1,  1, -1],\n",
    "#     [0,  0,  0,  0,  1, -1],\n",
    "#     [0,  0, -1, -1, -1,  1]\n",
    "# ]\n",
    "# )\n",
    "# adj = make_adj_from_anc(anc)\n",
    "# # plot_tree(adj)\n",
    "# get_i_rels(anc, 0, 3)"
   ]
  },
  {
   "cell_type": "code",
   "execution_count": 13,
   "metadata": {},
   "outputs": [],
   "source": [
    "# importlib.reload(tree_sampler_PT_to_anc)\n",
    "# #Unit test the _propogate_rules function\n",
    "# #   Looks like it got them all right! Now... to figure out why it's breaking anyways...\n",
    "# tens = np.ones((3,3,5)) / 3\n",
    "# tens[:,:,0:2] = 0\n",
    "# tens[range(3),range(3),:] = 0\n",
    "\n",
    "# print(tens[:,:,:])\n",
    "\n",
    "# anc = np.array([\n",
    "#     [ 1,  1,  1,  1],\n",
    "#     [ 0,  1, -1, -1],\n",
    "#     [ 0, -1,  1, -1],\n",
    "#     [ 0, -1, -1,  1]\n",
    "# ])\n",
    "# i,j,k = 1,2,3\n",
    "# for ij in [1,0]:\n",
    "#     for jk, kj in [[1,0], [0,0], [0,1]]:\n",
    "#         no_prop_anc = np.copy(anc)\n",
    "#         no_prop_anc[j,k] = jk\n",
    "#         no_prop_anc[k,j] = kj\n",
    "#         prop_anc = np.copy(no_prop_anc)\n",
    "#         no_prop_anc[i,j] = ij\n",
    "#         no_prop_anc[j,i] = 0\n",
    "#         rel = Models.diff_branches - ij*2 #techincally...\n",
    "#         model_probs = np.copy(tens)\n",
    "#         model_probs[j-1,k-1,:] = 0\n",
    "#         model_probs[k-1,j-1,:] = 0\n",
    "#         tree_sampler_PT_to_anc._propogate_rules(prop_anc,i-1,j-1,rel,model_probs)\n",
    "#         print(no_prop_anc[1:,1:])\n",
    "#         print(prop_anc[1:,1:])\n",
    "#         print(model_probs[:,:,2:])\n",
    "#     for ik, ki in [[1,0], [0,0], [0,1]]:\n",
    "#         no_prop_anc = np.copy(anc)\n",
    "#         no_prop_anc[i,k] = ik\n",
    "#         no_prop_anc[k,i] = ki\n",
    "#         prop_anc = np.copy(no_prop_anc)\n",
    "#         no_prop_anc[i,j] = ij\n",
    "#         no_prop_anc[j,i] = 0\n",
    "#         rel = Models.diff_branches - ij*2 #techincally...\n",
    "#         model_probs = np.copy(tens)\n",
    "#         model_probs[i-1,k-1,:] = 0\n",
    "#         model_probs[k-1,i-1,:] = 0\n",
    "#         tree_sampler_PT_to_anc._propogate_rules(prop_anc,i-1,j-1,rel,model_probs)\n",
    "#         print(no_prop_anc[1:,1:])\n",
    "#         print(prop_anc[1:,1:])\n",
    "#         print(model_probs[:,:,2:])"
   ]
  },
  {
   "cell_type": "code",
   "execution_count": 14,
   "metadata": {},
   "outputs": [],
   "source": [
    "#IMPLEMENTING SAMPLING RELATIONSHIPS ALONG A SET PAIRS ORDER\n",
    "# importlib.reload(tree_sampler_PT_to_anc)\n",
    "# from tree_sampler_PT_to_anc import _sample_tree_w_pair_order\n",
    "\n",
    "# n_samples = 10000\n",
    "\n",
    "# cont_samp = True\n",
    "# if cont_samp:\n",
    "#     new_samples = np.copy(samples)\n",
    "#     new_adjs = np.copy(adjs)\n",
    "#     new_llhs = np.copy(llhs)\n",
    "#     new_samp_probs = np.copy(samp_probs)\n",
    "\n",
    "# samples = np.zeros((n_muts+1,n_muts+1,n_samples))\n",
    "# adjs = np.zeros((n_muts+1,n_muts+1,n_samples))\n",
    "# llhs = np.zeros(n_samples)\n",
    "# samp_probs = np.zeros(n_samples)\n",
    "# for i in range(n_samples):\n",
    "#     if i % int(n_samples/20) == 0:\n",
    "#         print(i, \"/\", n_samples)\n",
    "#     samples[:,:,i], samp_probs[i] = _sample_tree_w_pair_order(pairs_tensor, order_by_certainty=True)\n",
    "#     adjs[:,:,i] = make_adj_from_anc(samples[:,:,i])\n",
    "#     llhs[i] = _calc_tree_llh(data,samples[:,:,i], np.array([fpr]*n_muts), np.array([ado]*n_muts), 1)\n",
    "\n",
    "# if cont_samp:\n",
    "#     samples = np.append(new_samples,samples,axis=2)\n",
    "#     adjs = np.append(new_adjs,adjs,axis=2)\n",
    "#     llhs = np.append(new_llhs,llhs)\n",
    "#     samp_probs = np.append(new_samp_probs,samp_probs)"
   ]
  },
  {
   "cell_type": "code",
   "execution_count": 30,
   "metadata": {},
   "outputs": [
    {
     "name": "stderr",
     "output_type": "stream",
     "text": [
      "{\"desc\": \"Sampling trees\", \"count\": 0, \"total\": 1, \"unit\": \"tree\", \"started_at\": \"2022-11-10 11:30:46.336997\", \"timestamp\": \"2022-11-10 11:30:46.337015\"}\n",
      "{\"desc\": \"Sampling trees\", \"count\": 1, \"total\": 1, \"unit\": \"tree\", \"started_at\": \"2022-11-10 11:30:46.336997\", \"timestamp\": \"2022-11-10 11:30:50.846169\"}\n",
      "{\"desc\": \"Sampling trees\", \"count\": 0, \"total\": 1000, \"unit\": \"tree\", \"started_at\": \"2022-11-10 11:30:51.011849\", \"timestamp\": \"2022-11-10 11:30:51.011868\"}\n",
      "{\"desc\": \"Sampling trees\", \"count\": 1, \"total\": 1000, \"unit\": \"tree\", \"started_at\": \"2022-11-10 11:30:51.011849\", \"timestamp\": \"2022-11-10 11:30:51.046214\"}\n",
      "{\"desc\": \"Sampling trees\", \"count\": 1000, \"total\": 1000, \"unit\": \"tree\", \"started_at\": \"2022-11-10 11:30:51.011849\", \"timestamp\": \"2022-11-10 11:30:53.397437\"}\n"
     ]
    },
    {
     "name": "stdout",
     "output_type": "stream",
     "text": [
      "0 / 1000\n",
      "50 / 1000\n",
      "100 / 1000\n",
      "150 / 1000\n",
      "200 / 1000\n",
      "250 / 1000\n",
      "300 / 1000\n",
      "350 / 1000\n",
      "400 / 1000\n",
      "450 / 1000\n",
      "500 / 1000\n",
      "550 / 1000\n",
      "600 / 1000\n",
      "650 / 1000\n",
      "700 / 1000\n",
      "750 / 1000\n",
      "800 / 1000\n",
      "850 / 1000\n",
      "900 / 1000\n",
      "950 / 1000\n"
     ]
    }
   ],
   "source": [
    "importlib.reload(tree_sampler_PT_to_anc)\n",
    "# from tree_sampler_PT_to_anc import _sample_tree_w_pair_order\n",
    "from tree_sampler_PT_to_anc import sample_trees\n",
    "import tree_sampler\n",
    "importlib.reload(tree_sampler)\n",
    "from tree_sampler import _calc_tree_llh\n",
    "\n",
    "\n",
    "_ = tree_sampler_PT_to_anc.sample_trees(pairs_tensor, 1, order_by_certainty=True, parallel=8)\n",
    "\n",
    "n_samples = 1000\n",
    "cont_sampling = False\n",
    "if cont_sampling:\n",
    "    try:\n",
    "        new_samples, new_samp_probs = tree_sampler_PT_to_anc.sample_trees(pairs_tensor, n_samples, order_by_certainty=True, parallel=8)\n",
    "        samples = np.append(samples, new_samples, axis=0)\n",
    "        samp_probs = np.append(samp_probs, new_new_samples, axis=0)\n",
    "        n_samples += n_samples\n",
    "    except NameError:\n",
    "        samples, samp_probs = tree_sampler_PT_to_anc.sample_trees(pairs_tensor, n_samples, order_by_certainty=True, parallel=8)\n",
    "else:\n",
    "    samples, samp_probs = tree_sampler_PT_to_anc.sample_trees(pairs_tensor, n_samples, order_by_certainty=True, parallel=8)\n",
    "adjs = np.zeros((n_samples,n_muts+1,n_muts+1), dtype=np.int8)\n",
    "ancs = np.zeros((n_samples,n_muts+1,n_muts+1), dtype=np.int8)\n",
    "llhs = np.zeros(n_samples)\n",
    "for i in range(n_samples):\n",
    "    if i % int(n_samples/20) == 0:\n",
    "        print(i, \"/\", n_samples)\n",
    "    adjs[i,:,:] = convert_parents_to_adjmatrix(samples[i,:])\n",
    "    ancs[i,:,:] = convert_adjmatrix_to_ancmatrix(adjs[i,:,:])\n",
    "    llhs[i] = _calc_tree_llh(data, ancs[i,:,:], np.array([fpr]*n_muts), np.array([ado]*n_muts), 1)\n"
   ]
  },
  {
   "cell_type": "code",
   "execution_count": 31,
   "metadata": {},
   "outputs": [],
   "source": [
    "# C = 1/np.mean(llhs/samp_probs) #Wrong me thinks (forgot both vals are logged...)\n",
    "nlogC = -np.log(n_samples) + util.logsumexp(llhs - samp_probs)"
   ]
  },
  {
   "cell_type": "code",
   "execution_count": 32,
   "metadata": {},
   "outputs": [
    {
     "name": "stdout",
     "output_type": "stream",
     "text": [
      "Sample coverage of g(t): 0.9076635548909404\n",
      "Sample coverage of tree_post 0.8755220948504041\n",
      "# trees >= actual tree llh 227\n"
     ]
    },
    {
     "data": {
      "image/png": "[encoded data removed]",
      "text/plain": [
       "<Figure size 576x576 with 1 Axes>"
      ]
     },
     "metadata": {
      "needs_background": "light"
     },
     "output_type": "display_data"
    }
   ],
   "source": [
    "unique, uni_i, uniq_cnts = np.unique(samples,axis=0, return_index=True, return_counts=True)\n",
    "uniq_p = samp_probs[uni_i]\n",
    "uniq_llhs = llhs[uni_i]\n",
    "# uniq_llhs = []\n",
    "# # uniq_adjs = []\n",
    "# for i in range(unique.shape[2]):\n",
    "#     samp = unique[:,:,i]\n",
    "    # uniq_p.append(prob_sample(samp,pairs_tensor))\n",
    "    # uniq_llhs.append(_calc_tree_llh(data, samp, np.array([fpr]*n_muts), np.array([ado]*n_muts), 1))\n",
    "    # uniq_adjs.append(make_adj_from_anc(samp))\n",
    "print(\"Sample coverage of g(t):\",np.sum(np.exp(uniq_p-np.max(uniq_p))*np.max(np.exp(uniq_p))))\n",
    "uniq_p = np.exp(uniq_p)\n",
    "# uniq_p = uniq_p / np.sum(uniq_p)\n",
    "uniq_post = uniq_llhs - nlogC\n",
    "print(\"Sample coverage of tree_post\",np.sum(np.exp(uniq_post - np.max(uniq_post))*np.exp(np.max(uniq_post))))\n",
    "uniq_llhs = np.exp(uniq_llhs - np.max(uniq_llhs))\n",
    "uniq_llhs = uniq_llhs / np.sum(uniq_llhs)\n",
    "together = np.zeros((unique.shape[0],4))\n",
    "together[:,0] = uniq_cnts/n_samples #sample prob approx from sampling\n",
    "together[:,1] = uniq_p #sample prob from edge weights\n",
    "together[:,2] = uniq_llhs #tree llhs as calculated by old method\n",
    "together[:,3] = np.exp(uniq_post - np.max(uniq_post))*np.exp(np.max(uniq_post)) #posterior calculated using normalization factor estimated from sampling\n",
    "\n",
    "\n",
    "# plt.figure(figsize=(8,4))\n",
    "# plt.subplot(1,2,1)\n",
    "# plt.imshow(adj_mat, vmin=0, vmax=1)\n",
    "# plt.title(\"True adj\")\n",
    "\n",
    "# plt.subplot(1,2,2)\n",
    "# plt.imshow(np.mean(adjs,axis=0))\n",
    "# plt.title(\"Avg adj\")\n",
    "\n",
    "# plt.figure(figsize=(8,4))\n",
    "# plt.subplot(1,2,1)\n",
    "# plt.imshow(anc_mat, vmin=0, vmax=1)\n",
    "# plt.title(\"True anc\")\n",
    "\n",
    "# plt.subplot(1,2,2)\n",
    "# plt.imshow(np.mean(ancs,axis=0))\n",
    "# plt.title(\"Avg anc\")\n",
    "\n",
    "\n",
    "llh_act = _calc_tree_llh(data, anc_mat, np.array([fpr]*n_muts), np.array([ado]*n_muts), 1)\n",
    "\n",
    "plt.figure(figsize=(8,8))\n",
    "h = plt.hist(llhs,np.min([int(n_samples/10), 200]))\n",
    "plt.plot([llh_act, llh_act], [0,np.max(h[0])], 'r--')\n",
    "plt.title(\"Sampled tree likelihoods\", fontsize=15)\n",
    "plt.xlabel(\"LLH\", fontsize=15)\n",
    "plt.ylabel(\"Frequency\", fontsize=15)\n",
    "plt.yticks(fontsize=15)\n",
    "plt.xticks(fontsize=15)\n",
    "\n",
    "print(\"# trees >= actual tree llh\", np.sum(llhs>=llh_act))"
   ]
  },
  {
   "cell_type": "code",
   "execution_count": 33,
   "metadata": {},
   "outputs": [
    {
     "data": {
      "image/png": "[encoded data removed]",
      "text/plain": [
       "<Figure size 864x648 with 5 Axes>"
      ]
     },
     "metadata": {
      "needs_background": "light"
     },
     "output_type": "display_data"
    },
    {
     "data": {
      "image/png": "[encoded data removed]",
      "text/plain": [
       "<Figure size 864x648 with 5 Axes>"
      ]
     },
     "metadata": {
      "needs_background": "light"
     },
     "output_type": "display_data"
    },
    {
     "data": {
      "image/png": "[encoded data removed]",
      "text/plain": [
       "<Figure size 864x648 with 5 Axes>"
      ]
     },
     "metadata": {
      "needs_background": "light"
     },
     "output_type": "display_data"
    },
    {
     "data": {
      "image/png": "[encoded data removed]",
      "text/plain": [
       "<Figure size 864x648 with 5 Axes>"
      ]
     },
     "metadata": {
      "needs_background": "light"
     },
     "output_type": "display_data"
    }
   ],
   "source": [
    "importlib.reload(tree_sampler_PT_to_anc)\n",
    "import pairs_tensor_plotter\n",
    "importlib.reload(pairs_tensor_plotter)\n",
    "from pairs_tensor_plotter import plot_raw_scores\n",
    "# tree_sampler_PT_to_anc.calc_importance_sampling_pairs_tensor(samples,llhs,samp_probs)\n",
    "new_pairs_tens = tree_sampler_PT_to_anc.calc_importance_sampling_pairs_tensor(samples,llhs,samp_probs)\n",
    "\n",
    "#The importance sampling tensor\n",
    "plot_raw_scores(new_pairs_tens,show_fig=True,save_fig=False)\n",
    "\n",
    "#The dumb average sampled pairs tensor\n",
    "sample_avg_pairs_tensor = np.zeros((n_muts,n_muts,NUM_MODELS))\n",
    "for s in range(n_samples):\n",
    "    node_rels = compute_node_relations(adjs[s,:,:])\n",
    "    for i in range(n_muts):\n",
    "        for j in range(n_muts):\n",
    "            sample_avg_pairs_tensor[i,j,node_rels[i+1,j+1]] += 1\n",
    "plot_raw_scores(sample_avg_pairs_tensor/n_samples,show_fig=True,save_fig=False)\n",
    "\n",
    "#The initial estimated pairs tensor\n",
    "plot_raw_scores(np.exp(pairs_tensor),show_fig=True,save_fig=False)\n",
    "\n",
    "#The actual pair tensor\n",
    "node_rels = compute_node_relations(adj_mat)\n",
    "act_pairs_tensor = np.zeros((n_muts,n_muts,NUM_MODELS))\n",
    "for i in range(n_muts):\n",
    "    for j in range(n_muts):\n",
    "        act_pairs_tensor[i,j,node_rels[i+1,j+1]] = 1\n",
    "\n",
    "plot_raw_scores(act_pairs_tensor,show_fig=True,save_fig=False)\n"
   ]
  },
  {
   "cell_type": "code",
   "execution_count": 20,
   "metadata": {},
   "outputs": [
    {
     "data": {
      "text/plain": [
       "Text(0.5, 1.0, 'Importance sampling anc mat')"
      ]
     },
     "execution_count": 20,
     "metadata": {},
     "output_type": "execute_result"
    },
    {
     "data": {
      "image/png": "[encoded data removed]",
      "text/plain": [
       "<Figure size 864x288 with 3 Axes>"
      ]
     },
     "metadata": {
      "needs_background": "light"
     },
     "output_type": "display_data"
    }
   ],
   "source": [
    "importlib.reload(tree_sampler_PT_to_anc)\n",
    "\n",
    "\n",
    "IS_anc_mat = tree_sampler_PT_to_anc.calc_importance_sampling_matrix(ancs,llhs,samp_probs)\n",
    "dum_anc_mat = np.mean(ancs,axis=0)\n",
    "\n",
    "plt.figure(figsize=(12,4))\n",
    "plt.subplot(1,3,1)\n",
    "plt.imshow(anc_mat)\n",
    "plt.title(\"Actual anc mat\")\n",
    "\n",
    "plt.subplot(1,3,2)\n",
    "plt.imshow(dum_anc_mat)\n",
    "plt.title(\"Avg sampled anc mat\")\n",
    "\n",
    "plt.subplot(1,3,3)\n",
    "plt.imshow(IS_anc_mat)\n",
    "plt.title(\"Importance sampling anc mat\")\n"
   ]
  },
  {
   "cell_type": "code",
   "execution_count": 21,
   "metadata": {},
   "outputs": [
    {
     "data": {
      "text/plain": [
       "Text(0.5, 1.0, 'Importance sampling adj mat')"
      ]
     },
     "execution_count": 21,
     "metadata": {},
     "output_type": "execute_result"
    },
    {
     "data": {
      "image/png": "[encoded data removed]",
      "text/plain": [
       "<Figure size 864x288 with 3 Axes>"
      ]
     },
     "metadata": {
      "needs_background": "light"
     },
     "output_type": "display_data"
    }
   ],
   "source": [
    "importlib.reload(tree_sampler_PT_to_anc)\n",
    "\n",
    "\n",
    "IS_adj_mat = tree_sampler_PT_to_anc.calc_importance_sampling_matrix(adjs,llhs,samp_probs)\n",
    "dum_adj_mat = np.mean(adjs,axis=0)\n",
    "\n",
    "plt.figure(figsize=(12,4))\n",
    "plt.subplot(1,3,1)\n",
    "plt.imshow(adj_mat)\n",
    "plt.title(\"Actual adj mat\")\n",
    "\n",
    "plt.subplot(1,3,2)\n",
    "plt.imshow(dum_adj_mat)\n",
    "plt.title(\"Avg sampled adj mat\")\n",
    "\n",
    "plt.subplot(1,3,3)\n",
    "plt.imshow(IS_adj_mat)\n",
    "plt.title(\"Importance sampling adj mat\")"
   ]
  },
  {
   "cell_type": "code",
   "execution_count": 22,
   "metadata": {},
   "outputs": [],
   "source": [
    "#Trying to figure out how the normalization constant changes during sampling.\n",
    "\n",
    "# g_cov = np.zeros(n_samples)\n",
    "# post_cov = np.zeros(n_samples)\n",
    "# unique = np.zeros((1,n_muts+1,n_muts+1))\n",
    "# unique[0,:,:] = samples[0,:,:]\n",
    "# uni_i = np.zeros(1,dtype=np.int)\n",
    "# for s in range(n_samples):\n",
    "#     if s % int(n_samples/20) == 0:\n",
    "#         print(s, \"/\", n_samples)\n",
    "#     new_unique = np.append(unique, samples[s:s+1,:,:],axis=0)\n",
    "#     new_unique = np.unique(new_unique,axis=0)\n",
    "#     if unique.shape != new_unique.shape:\n",
    "#         unique = new_unique\n",
    "#         uni_i = np.append(uni_i, s)\n",
    "#     # unique, uni_i, uniq_cnts = np.unique(samples[:s,:,:],axis=0, return_index=True, return_counts=True)\n",
    "#     nlogC = -np.log(s) + util.logsumexp(llhs[:s+1] - samp_probs[:s+1])\n",
    "#     uniq_p = samp_probs[uni_i]\n",
    "#     uniq_llhs = llhs[uni_i]\n",
    "#     # uniq_p = np.exp(uniq_p)\n",
    "#     uniq_post = uniq_llhs - nlogC\n",
    "\n",
    "#     g_cov[s] = np.sum(np.exp(uniq_p-np.max(uniq_p))*np.max(np.exp(uniq_p)))\n",
    "#     post_cov[s] = np.sum(np.exp(uniq_post - np.max(uniq_post))*np.exp(np.max(uniq_post)))\n"
   ]
  },
  {
   "cell_type": "code",
   "execution_count": null,
   "metadata": {},
   "outputs": [],
   "source": [
    "plt.figure()\n",
    "plt.plot(g_cov, 'r')\n",
    "plt.plot(post_cov, 'b')\n",
    "# plt.ylim([0.8,1.2])"
   ]
  },
  {
   "cell_type": "code",
   "execution_count": null,
   "metadata": {},
   "outputs": [],
   "source": [
    "rng_i = np.zeros(n_muts*n_muts,dtype=int)\n",
    "rng_j = np.zeros(n_muts*n_muts,dtype=int)\n",
    "cnt = 0\n",
    "for i in range(n_muts):\n",
    "    for j in range(n_muts):\n",
    "        rng_i[cnt] = i\n",
    "        rng_j[cnt] = j\n",
    "        cnt += 1 \n",
    "\n",
    "t_i = [i for i in range(n_muts) for j in range(n_muts)]\n",
    "t_j = [j for i in range(n_muts) for j in range(n_muts)]\n",
    "\n",
    "t = np.array([[i,j] for i in range(n_muts) for j in range(n_muts)])\n",
    "t_i, t_j = t[:,0], t[:,1]\n",
    "\n",
    "print(np.array_equal(rng_i, t_i))\n",
    "print(np.array_equal(rng_j, t_j))"
   ]
  }
 ],
 "metadata": {
  "kernelspec": {
   "display_name": "Python 3.9.7 ('sc_pairtree')",
   "language": "python",
   "name": "python3"
  },
  "language_info": {
   "codemirror_mode": {
    "name": "ipython",
    "version": 3
   },
   "file_extension": ".py",
   "mimetype": "text/x-python",
   "name": "python",
   "nbconvert_exporter": "python",
   "pygments_lexer": "ipython3",
   "version": "3.9.7"
  },
  "orig_nbformat": 4,
  "vscode": {
   "interpreter": {
    "hash": "8aaf878130efb1a7d7e3c4a289898637c64f52dccff7a9813f39ba7d378dcdd9"
   }
  }
 },
 "nbformat": 4,
 "nbformat_minor": 2
}
