{
 "cells": [
  {
   "cell_type": "code",
   "execution_count": null,
   "metadata": {},
   "outputs": [],
   "source": [
    "import numpy as np\n",
    "import importlib\n",
    "import sys, os\n",
    "import matplotlib.pyplot as plt\n",
    "import time\n",
    "import random\n",
    "from numba import njit\n",
    "sys.path.append(os.path.abspath('../../lib'))\n",
    "import pairs_tensor_constructor\n",
    "import pairs_tensor_util\n",
    "import util\n",
    "import tree_sampler_PT_to_anc\n",
    "import numba\n",
    "from util import make_adj_from_anc\n",
    "from tree_sampler import _calc_tree_llh\n",
    "\n",
    "from common import Models\n",
    "from data_simulator_full_auto import generate_simulated_data\n",
    "from tree_plotter import plot_tree"
   ]
  },
  {
   "cell_type": "code",
   "execution_count": null,
   "metadata": {},
   "outputs": [],
   "source": [
    "n_muts = 200\n",
    "n_cells = 1000\n",
    "fpr = 0.001\n",
    "ado = 0.1\n",
    "\n",
    "data, true_tree = generate_simulated_data(n_clust=n_muts, \n",
    "                                            n_cells=n_cells, \n",
    "                                            n_muts=n_muts, \n",
    "                                            FPR=fpr, \n",
    "                                            ADO=ado, \n",
    "                                            cell_alpha=1, \n",
    "                                            mut_alpha=1,\n",
    "                                            drange=1\n",
    "                                            )\n",
    "adj_mat = true_tree[1]\n",
    "anc_mat = util.make_ancestral_from_adj(adj_mat)"
   ]
  },
  {
   "cell_type": "code",
   "execution_count": null,
   "metadata": {},
   "outputs": [],
   "source": [
    "pairs_tensor = pairs_tensor_constructor.construct_pairs_tensor(data,0.001,0.1,1, verbose=False)"
   ]
  },
  {
   "cell_type": "code",
   "execution_count": null,
   "metadata": {},
   "outputs": [],
   "source": [
    "importlib.reload(tree_sampler_PT_to_anc)\n",
    "\n",
    "n_samples = 10\n",
    "times = []\n",
    "samples = np.zeros((n_muts+1,n_muts+1,n_samples))\n",
    "for i in range(n_samples):\n",
    "    s = time.time()\n",
    "    samples[:,:,i] = tree_sampler_PT_to_anc._sample_tree(pairs_tensor)\n",
    "    times.append(time.time() - s)\n",
    "\n",
    "print(np.mean(times))"
   ]
  },
  {
   "cell_type": "code",
   "execution_count": null,
   "metadata": {},
   "outputs": [],
   "source": [
    "from torch import norm\n",
    "\n",
    "\n",
    "def _make_selection(selection_probs):\n",
    "    choice_array = np.exp(selection_probs - np.max(selection_probs))\n",
    "    choice_array = choice_array.flatten() / np.sum(choice_array)\n",
    "    rng = np.random.default_rng()\n",
    "    choice = rng.choice(len(choice_array), size=1, p=choice_array)\n",
    "    # choice = np.random.choice(len(choice_array), size=(1,), p=choice_array)\n",
    "    i,j,rel = np.unravel_index(choice, shape=selection_probs.shape)\n",
    "    return int(i),int(j),int(rel)\n",
    "\n",
    "@numba.njit()\n",
    "def _make_selection_numba(selection_probs):\n",
    "    maxP = np.max(selection_probs)\n",
    "    norm_sp = np.copy(selection_probs)\n",
    "    nrmC = 0\n",
    "    for i in range(norm_sp.shape[0]):\n",
    "        for j in range(norm_sp.shape[1]):\n",
    "            for rel in range(norm_sp.shape[2]):\n",
    "                norm_sp[i,j,rel] = np.exp(norm_sp[i,j,rel] - maxP)\n",
    "                nrmC = nrmC + norm_sp[i,j,rel]\n",
    "\n",
    "    s = 0\n",
    "    a = np.random.rand()*nrmC\n",
    "    choice_made = False\n",
    "    for i in range(norm_sp.shape[0]):\n",
    "        for j in range(norm_sp.shape[1]):\n",
    "            for rel in range(norm_sp.shape[2]):\n",
    "                if a < s + norm_sp[i,j,rel]:\n",
    "                    choice_made = True\n",
    "                    break\n",
    "                s = s + norm_sp[i,j,rel]\n",
    "            if choice_made:\n",
    "                break\n",
    "        if choice_made:\n",
    "                break\n",
    "    return i,j,rel"
   ]
  },
  {
   "cell_type": "code",
   "execution_count": null,
   "metadata": {},
   "outputs": [],
   "source": [
    "A = np.log(np.random.rand(10,10,5))\n",
    "\n",
    "norm_times = []\n",
    "njit_times = []\n",
    "norm_res = []\n",
    "njit_res = []\n",
    "for i in range(10000):\n",
    "    s = time.time()\n",
    "    norm_res.append(_make_selection(A))\n",
    "    norm_times.append(time.time()-s)\n",
    "    s = time.time()\n",
    "    njit_res.append(_make_selection_numba(A))\n",
    "    njit_times.append(time.time()-s)\n",
    "\n",
    "print(np.sum(norm_times))\n",
    "print(np.sum(njit_times))\n",
    "\n",
    "plt.figure(figsize=(10,5))\n",
    "for i in range(5):\n",
    "    plt.subplot(2,3,i+1)\n",
    "    plt.imshow(np.exp(A[:,:,i]))\n",
    "    plt.title(\"A_mat: \" + str(i))\n",
    "\n",
    "plt.figure(figsize=(10,5))\n",
    "toplt = np.zeros((10,10,5))\n",
    "for i in norm_res:\n",
    "    toplt[i[0],i[1],i[2]] += 1\n",
    "for i in range(5):\n",
    "    plt.subplot(2,3,i+1)\n",
    "    plt.imshow(toplt[:,:,i])\n",
    "    plt.title(\"norm_res \" + str(i))\n",
    "\n",
    "plt.figure(figsize=(10,5))\n",
    "toplt = np.zeros((10,10,5))\n",
    "for i in njit_res:\n",
    "    toplt[i[0],i[1],i[2]] += 1\n",
    "for i in range(5):\n",
    "    plt.subplot(2,3,i+1)\n",
    "    plt.imshow(toplt[:,:,i])\n",
    "    plt.title(\"njit_res: \" + str(i))\n"
   ]
  }
 ],
 "metadata": {
  "kernelspec": {
   "display_name": "Python 3.9.7 ('sc_pairtree')",
   "language": "python",
   "name": "python3"
  },
  "language_info": {
   "codemirror_mode": {
    "name": "ipython",
    "version": 3
   },
   "file_extension": ".py",
   "mimetype": "text/x-python",
   "name": "python",
   "nbconvert_exporter": "python",
   "pygments_lexer": "ipython3",
   "version": "3.9.7"
  },
  "orig_nbformat": 4,
  "vscode": {
   "interpreter": {
    "hash": "8aaf878130efb1a7d7e3c4a289898637c64f52dccff7a9813f39ba7d378dcdd9"
   }
  }
 },
 "nbformat": 4,
 "nbformat_minor": 2
}
