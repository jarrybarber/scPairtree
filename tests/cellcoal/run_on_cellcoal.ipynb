{
 "cells": [
  {
   "cell_type": "code",
   "execution_count": 14,
   "metadata": {},
   "outputs": [],
   "source": [
    "import numpy as np\n",
    "import math\n",
    "import importlib\n",
    "import sys, os\n",
    "import matplotlib.pyplot as plt\n",
    "import time\n",
    "import random\n",
    "from numba import njit\n",
    "sys.path.append(os.path.abspath('../../lib'))\n",
    "import pairs_tensor_constructor\n",
    "import pairs_tensor_util\n",
    "import tree_sampler_DFPT\n",
    "from util import compute_node_relations, determine_mutation_pair_occurance_counts\n",
    "from tree_util import convert_parents_to_adjmatrix, convert_parents_to_ancmatrix, convert_adjmatrix_to_ancmatrix, convert_ancmatrix_to_adjmatrix, calc_tree_llh\n",
    "\n",
    "from common import Models, NUM_MODELS\n",
    "from tree_plotter import plot_tree\n",
    "from pairs_tensor_plotter import plot_raw_scores"
   ]
  },
  {
   "cell_type": "code",
   "execution_count": 15,
   "metadata": {},
   "outputs": [],
   "source": [
    "def load_cellcoal_data(fn):\n",
    "    with open(fn,'r') as f:\n",
    "        header = f.readline()\n",
    "        n_rows, n_cols = header.replace(\"\\n\",\"\").split(\" \")\n",
    "        n_rows, n_cols = int(n_rows), int(n_cols)\n",
    "        data = np.zeros((int(n_rows/2), n_cols),dtype=int)\n",
    "        for i, row in enumerate(f.readlines()):\n",
    "            entries = row.replace(\"\\n\",\"\")\n",
    "            if i%2 == 0:\n",
    "                maternal = entries.split(\"  \")[1]\n",
    "            else:\n",
    "                paternal = entries.split(\"  \")[1]\n",
    "                assert len(maternal) == len(paternal)\n",
    "                assert len(maternal) == n_cols\n",
    "                cell_data = np.zeros(n_cols)\n",
    "                for j in range(n_cols):\n",
    "                    if maternal[j]==\"?\" and paternal[j]==\"?\":\n",
    "                        cell_data[j] = 3\n",
    "                    elif maternal[j]==\"1\" and paternal[j]==\"1\":\n",
    "                        cell_data[j] = 2\n",
    "                    elif maternal[j]==\"1\" or paternal[j]==\"1\":\n",
    "                        cell_data[j] = 1\n",
    "                    elif maternal[j]==\"0\" and paternal[j]==\"0\":\n",
    "                        cell_data[j] = 0\n",
    "                data[int((i-1)/2),:] = cell_data\n",
    "    return data\n",
    "\n",
    "def calc_true_anc(true_data,type=\"mut\"):\n",
    "    n_mut = true_data.shape[0]\n",
    "    pairwise_counts_11 = determine_mutation_pair_occurance_counts(true_data, [1,1])\n",
    "    pairwise_counts_10 = determine_mutation_pair_occurance_counts(true_data, [1,0])\n",
    "    pairwise_counts_01 = determine_mutation_pair_occurance_counts(true_data, [0,1])\n",
    "    # pairwise_counts_00 = determine_mutation_pair_occurance_counts(true_data, [0,0])\n",
    "\n",
    "    is_coclust = (pairwise_counts_11>0) & (pairwise_counts_10==0) & (pairwise_counts_01==0)\n",
    "    is_anc = (pairwise_counts_11>0) & (pairwise_counts_10>0) & (pairwise_counts_01==0)\n",
    "    # is_dec = (pairwise_counts_11>0) & (pairwise_counts_10==0) & (pairwise_counts_01>0)\n",
    "    # is_branched = (pairwise_counts_11==0) & (pairwise_counts_10>0) & (pairwise_counts_01>0)\n",
    "\n",
    "    anc_mat = np.zeros((n_mut,n_mut),dtype=int)\n",
    "    anc_mat += is_anc\n",
    "    anc_mat += is_coclust\n",
    "\n",
    "    if type==\"mut\":\n",
    "        full_anc_mat = np.zeros((n_mut+1,n_mut+1),dtype=int)\n",
    "        full_anc_mat[0,:] = 1\n",
    "        full_anc_mat[1:,1:] = anc_mat\n",
    "        return full_anc_mat\n",
    "    elif type==\"clust\":\n",
    "        clust_anc_mat, clst_inds, mut_clust_ass = np.unique(anc_mat,axis=0, return_inverse=True, return_index=True)\n",
    "        clust_anc_mat = clust_anc_mat[:,clst_inds]\n",
    "        n_clust = clust_anc_mat.shape[0]\n",
    "        full_anc_mat = np.zeros((n_clust+1,n_clust+1),dtype=int)\n",
    "        full_anc_mat[0,:] = 1\n",
    "        full_anc_mat[1:,1:] = clust_anc_mat\n",
    "        mut_clust_ass += 1\n",
    "        return full_anc_mat, mut_clust_ass\n",
    "    else:\n",
    "        raise ValueError(\"type must be either 'mut' or 'clust'\")\n"
   ]
  },
  {
   "cell_type": "code",
   "execution_count": 16,
   "metadata": {},
   "outputs": [],
   "source": [
    "#Load in some of the data\n",
    "fn = \"./data/full_haplotypes_dir/full_hap.0001\"\n",
    "true_fn = \"./data/true_haplotypes_dir/true_hap.0001\"\n",
    "data = load_cellcoal_data(fn)\n",
    "true_data = load_cellcoal_data(true_fn)\n",
    "\n",
    "data = np.transpose(data[:-1,:])\n",
    "true_data = np.transpose(true_data[:-1,:])\n"
   ]
  },
  {
   "cell_type": "code",
   "execution_count": 17,
   "metadata": {},
   "outputs": [
    {
     "name": "stdout",
     "output_type": "stream",
     "text": [
      "0s: 4531799\n",
      "1s: 38082\n",
      "2s: 67\n",
      "3s: 430052\n"
     ]
    }
   ],
   "source": [
    "print(\"0s:\", np.sum(data==0))\n",
    "print(\"1s:\", np.sum(data==1))\n",
    "print(\"2s:\", np.sum(data==2))\n",
    "print(\"3s:\", np.sum(data==3))"
   ]
  },
  {
   "cell_type": "code",
   "execution_count": 26,
   "metadata": {},
   "outputs": [],
   "source": [
    "#Compare number of observed snvs to actual snvs\n",
    "\n",
    "n_true_snvs_in_data = np.sum(np.sum(true_data==1,axis=1)>0)\n",
    "n_snvs_in_data = np.sum(np.sum(data==1,axis=1)>=50)\n",
    "\n"
   ]
  },
  {
   "cell_type": "code",
   "execution_count": 19,
   "metadata": {},
   "outputs": [],
   "source": [
    "#Keep just the actual snvs for now\n",
    "# data = data[np.sum(true_data==1,axis=1)>0,:]\n",
    "# true_data = true_data[np.sum(true_data==1,axis=1)>0,:]\n",
    "\n",
    "# #Determine the ancestry matices from the true data\n",
    "# true_mut_anc = calc_true_anc(true_data,type=\"mut\")\n",
    "# true_clst_anc, mut_clst_ass = calc_true_anc(true_data,type=\"clust\")\n",
    "\n",
    "# true_clst_adj = convert_ancmatrix_to_adjmatrix(true_clst_anc)"
   ]
  },
  {
   "cell_type": "code",
   "execution_count": 20,
   "metadata": {},
   "outputs": [],
   "source": [
    "# f = plot_tree(true_clst_adj)"
   ]
  }
 ],
 "metadata": {
  "kernelspec": {
   "display_name": "sc_pairtree",
   "language": "python",
   "name": "python3"
  },
  "language_info": {
   "codemirror_mode": {
    "name": "ipython",
    "version": 3
   },
   "file_extension": ".py",
   "mimetype": "text/x-python",
   "name": "python",
   "nbconvert_exporter": "python",
   "pygments_lexer": "ipython3",
   "version": "3.9.18"
  }
 },
 "nbformat": 4,
 "nbformat_minor": 2
}
